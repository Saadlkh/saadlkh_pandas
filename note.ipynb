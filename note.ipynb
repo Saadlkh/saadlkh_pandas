{
 "cells": [
  {
   "cell_type": "markdown",
   "metadata": {},
   "source": [
    "# خريطة للتعلم الالي"
   ]
  },
  {
   "cell_type": "markdown",
   "metadata": {},
   "source": [
    "# الرياضيات\n",
    "### الجبر الخطي\n",
    "* youtub: الجبر الخطي لعلم البيانات|Differentiation and integration [الجبر الخطي](https://www.youtube.com/watch?v=HDOppwiJzKc&list=PLtsZ69x5q-X_mtZI2heqry-nw3-6apBqm)\n",
    "### التفاضل و التكامل\n",
    "* youtub: التفاضل|calculus derivartur [التفاضل](https://www.youtube.com/watch?v=nTe1j5A2-_4&list=PL8pYI62gCNsUJvxHc6uzWINUfvdoWSWia)\n",
    "* youtub: التكامل|calculus integral [التكامل](https://www.youtube.com/watch?v=r-OHCCCwRlI&list=PL8pYI62gCNsW2tmaDJHuqC_U7muWUCdEf)\n",
    "### الاحتمالات و الاحصاء\n",
    "* youtub: الاحتمالات و الاحصاء|probability and statistics [الاحتمالات و الاحصاء](https://www.youtube.com/watch?v=GmJJ2iZz08c&list=PLxIvc-MGOs6gW9SgkmoxE5w9vQkID1_r-)\n",
    "---\n",
    "# المكتبات\n",
    "## for data\n",
    "### Pandas\n",
    "### Numpy\n",
    "## for Explained\n",
    "### Matplotlib\n",
    "## for machin learning\n",
    "### sk-learn\n",
    "## not important new\n",
    "### TransorFlow\n",
    "### PyTorch\n",
    "---\n",
    "# كورس التعلم الالي\n",
    "* coursera: [machin learning](https://www.coursera.org/specializations/machine-learning-introduction#courses)\n",
    "---\n",
    "# Kaggle\n",
    "[kaggle](https://www.kaggle.com/)\n",
    "### learn in kaggle\n",
    "### kaggle challenge\n",
    "### kaggle race"
   ]
  }
 ],
 "metadata": {
  "language_info": {
   "name": "python"
  }
 },
 "nbformat": 4,
 "nbformat_minor": 2
}
